{
  "nbformat": 4,
  "nbformat_minor": 0,
  "metadata": {
    "colab": {
      "provenance": [],
      "authorship_tag": "ABX9TyNGIsmNNKx8V35xDn7+BQ7d",
      "include_colab_link": true
    },
    "kernelspec": {
      "name": "python3",
      "display_name": "Python 3"
    },
    "language_info": {
      "name": "python"
    },
    "accelerator": "GPU",
    "gpuClass": "standard"
  },
  "cells": [
    {
      "cell_type": "markdown",
      "metadata": {
        "id": "view-in-github",
        "colab_type": "text"
      },
      "source": [
        "<a href=\"https://colab.research.google.com/github/lilianabs/learning-pytorch/blob/main/Simple_NN.ipynb\" target=\"_parent\"><img src=\"https://colab.research.google.com/assets/colab-badge.svg\" alt=\"Open In Colab\"/></a>"
      ]
    },
    {
      "cell_type": "markdown",
      "source": [
        "This notebook contains the code from this tutorial: https://coderzcolumn.com/tutorials/artificial-intelligence/guide-to-create-simple-neural-networks-using-pytorch"
      ],
      "metadata": {
        "id": "fyGzxIkvemst"
      }
    },
    {
      "cell_type": "code",
      "source": [
        "import torch\n",
        "\n",
        "print(\"PyTorch Version : {}\".format(torch.__version__))"
      ],
      "metadata": {
        "id": "Cng_HeBXaIjC",
        "colab": {
          "base_uri": "https://localhost:8080/"
        },
        "outputId": "8a469c65-8ee3-45a6-c586-b0cfbc40a934"
      },
      "execution_count": 1,
      "outputs": [
        {
          "output_type": "stream",
          "name": "stdout",
          "text": [
            "PyTorch Version : 1.13.1+cu116\n"
          ]
        }
      ]
    },
    {
      "cell_type": "code",
      "source": [
        "device = \"cuda\" if torch.cuda.is_available() else \"cpu\"\n",
        "\n",
        "print(\"Device : {}\".format(device))"
      ],
      "metadata": {
        "colab": {
          "base_uri": "https://localhost:8080/"
        },
        "id": "aOtI7-r3bipC",
        "outputId": "79c02b0c-ab6c-49dd-a6f8-66bee20f3e24"
      },
      "execution_count": 2,
      "outputs": [
        {
          "output_type": "stream",
          "name": "stdout",
          "text": [
            "Device : cuda\n"
          ]
        }
      ]
    },
    {
      "cell_type": "code",
      "execution_count": 7,
      "metadata": {
        "id": "GP4ivQMaStWi"
      },
      "outputs": [],
      "source": [
        "from sklearn import datasets\n",
        "from sklearn.model_selection import train_test_split\n",
        "import numpy as np\n",
        "import pandas as pd"
      ]
    },
    {
      "cell_type": "code",
      "source": [
        "data_url = \"http://lib.stat.cmu.edu/datasets/boston\"\n",
        "raw_df = pd.read_csv(data_url, sep=\"\\s+\", skiprows=22, header=None)\n",
        "X = np.hstack([raw_df.values[::2, :], raw_df.values[1::2, :2]])\n",
        "y = raw_df.values[1::2, 2]"
      ],
      "metadata": {
        "id": "SaWJfqobj7pE"
      },
      "execution_count": 8,
      "outputs": []
    },
    {
      "cell_type": "code",
      "source": [
        "#X, y = datasets.load_boston(return_X_y=True)\n",
        "\n",
        "X_train, X_test, y_train, y_test = train_test_split(X, y, train_size=0.8, random_state=123)\n",
        "\n",
        "X_train, X_test, y_train, y_test = torch.tensor(X_train, dtype=torch.float32),\\\n",
        "                                   torch.tensor(X_test, dtype=torch.float32),\\\n",
        "                                   torch.tensor(y_train, dtype=torch.float32),\\\n",
        "                                   torch.tensor(y_test, dtype=torch.float32)\n",
        "\n",
        "samples, features = X_train.shape\n"
      ],
      "metadata": {
        "id": "a-UjgYHSDQCo"
      },
      "execution_count": 9,
      "outputs": []
    },
    {
      "cell_type": "code",
      "source": [
        "X_train.shape, X_test.shape, y_train.shape, y_test.shape"
      ],
      "metadata": {
        "id": "ZbS-82IBDUIW",
        "colab": {
          "base_uri": "https://localhost:8080/"
        },
        "outputId": "23e307de-0f8c-4eda-b97c-f9d6baad1094"
      },
      "execution_count": 13,
      "outputs": [
        {
          "output_type": "execute_result",
          "data": {
            "text/plain": [
              "(torch.Size([404, 13]),\n",
              " torch.Size([102, 13]),\n",
              " torch.Size([404]),\n",
              " torch.Size([102]))"
            ]
          },
          "metadata": {},
          "execution_count": 13
        }
      ]
    },
    {
      "cell_type": "code",
      "source": [
        "# Normalize the data\n",
        "mean = X_train.mean(axis=0)\n",
        "std = X_train.std(axis=0)\n",
        "\n",
        "X_train = (X_train - mean) / std\n",
        "X_test = (X_test - mean) / std"
      ],
      "metadata": {
        "id": "iRTZsFA5DgM8"
      },
      "execution_count": 14,
      "outputs": []
    },
    {
      "cell_type": "code",
      "source": [
        "def initialize_weights(layer_sizes):\n",
        "    weights = []\n",
        "    for i, units in enumerate(layer_sizes):\n",
        "        if i==0:\n",
        "            w = torch.rand(units,features, dtype=torch.float32, requires_grad=True) ## First Layer\n",
        "        else:\n",
        "            w = torch.rand(units,layer_sizes[i-1], dtype=torch.float32, requires_grad=True) ## All other layers\n",
        "\n",
        "        b = torch.rand(units, dtype=torch.float32, requires_grad=True) ## Bias\n",
        "\n",
        "        weights.append([w,b])\n",
        "\n",
        "    return weights"
      ],
      "metadata": {
        "id": "iDQ_SviGEaGE"
      },
      "execution_count": 15,
      "outputs": []
    },
    {
      "cell_type": "code",
      "source": [
        "torch.manual_seed(123)\n",
        "\n",
        "weights = initialize_weights([15,10,1])\n",
        "\n",
        "for i, (w,b) in enumerate(weights):\n",
        "    print(\"Layer : {}, Weights : {}, Biases : {}\".format(i+1, w.shape, b.shape))"
      ],
      "metadata": {
        "colab": {
          "base_uri": "https://localhost:8080/"
        },
        "id": "IwJ5AeoRpvuy",
        "outputId": "590d5d56-709e-43ce-bcf1-cf8af199c36b"
      },
      "execution_count": 16,
      "outputs": [
        {
          "output_type": "stream",
          "name": "stdout",
          "text": [
            "Layer : 1, Weights : torch.Size([15, 13]), Biases : torch.Size([15])\n",
            "Layer : 2, Weights : torch.Size([10, 15]), Biases : torch.Size([10])\n",
            "Layer : 3, Weights : torch.Size([1, 10]), Biases : torch.Size([1])\n"
          ]
        }
      ]
    },
    {
      "cell_type": "code",
      "source": [
        "def Relu(tensor):\n",
        "    return torch.maximum(tensor, torch.zeros_like(tensor)) # max(0,x)"
      ],
      "metadata": {
        "id": "XKMddXeOpz4w"
      },
      "execution_count": 17,
      "outputs": []
    },
    {
      "cell_type": "code",
      "source": [
        "tensor = torch.tensor([-1,0,1,-2,4,-6,5])\n",
        "\n",
        "Relu(tensor)"
      ],
      "metadata": {
        "colab": {
          "base_uri": "https://localhost:8080/"
        },
        "id": "ia_jkz14qVNJ",
        "outputId": "546f461e-670e-4484-be3b-90f77d6b827b"
      },
      "execution_count": 18,
      "outputs": [
        {
          "output_type": "execute_result",
          "data": {
            "text/plain": [
              "tensor([0, 0, 1, 0, 4, 0, 5])"
            ]
          },
          "metadata": {},
          "execution_count": 18
        }
      ]
    },
    {
      "cell_type": "code",
      "source": [
        "def LinearLayer(weights, input_data, activation=lambda x: x):\n",
        "    w, b = weights\n",
        "    out = torch.matmul(input_data, w.T) + b ## Multiply input by weights and add bias to it.\n",
        "    return activation(out) ## Apply activation at last"
      ],
      "metadata": {
        "id": "k0wIN2CaqtN_"
      },
      "execution_count": 19,
      "outputs": []
    },
    {
      "cell_type": "code",
      "source": [
        "rand_data = torch.rand(5, features)\n",
        "\n",
        "out = LinearLayer(weights[0], rand_data, Relu)\n",
        "\n",
        "print(\"Data Shape : {}\".format(rand_data.shape))\n",
        "print(\"Output Shape : {}\".format(out.shape))"
      ],
      "metadata": {
        "colab": {
          "base_uri": "https://localhost:8080/"
        },
        "id": "kxZORMbWsBoq",
        "outputId": "dd4d1758-002b-4dc9-e315-015ff2e15350"
      },
      "execution_count": 20,
      "outputs": [
        {
          "output_type": "stream",
          "name": "stdout",
          "text": [
            "Data Shape : torch.Size([5, 13])\n",
            "Output Shape : torch.Size([5, 15])\n"
          ]
        }
      ]
    },
    {
      "cell_type": "code",
      "source": [
        "def forward(weights, input_data):\n",
        "    layer_out = input_data\n",
        "\n",
        "    for i in range(len(weights[:-1])):\n",
        "        layer_out = LinearLayer(weights[i], layer_out, Relu) ## Hidden Layer\n",
        "\n",
        "    preds = LinearLayer(weights[-1], layer_out) ## Final Layer\n",
        "\n",
        "    return preds.ravel()"
      ],
      "metadata": {
        "id": "5-vrzqDMscrr"
      },
      "execution_count": null,
      "outputs": []
    }
  ]
}
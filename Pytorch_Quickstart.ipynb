{
  "nbformat": 4,
  "nbformat_minor": 0,
  "metadata": {
    "colab": {
      "provenance": [],
      "authorship_tag": "ABX9TyPsxf4Er/IAueMM7B9dxrR5",
      "include_colab_link": true
    },
    "kernelspec": {
      "name": "python3",
      "display_name": "Python 3"
    },
    "language_info": {
      "name": "python"
    },
    "accelerator": "GPU",
    "gpuClass": "standard"
  },
  "cells": [
    {
      "cell_type": "markdown",
      "metadata": {
        "id": "view-in-github",
        "colab_type": "text"
      },
      "source": [
        "<a href=\"https://colab.research.google.com/github/lilianabs/learning-pytorch/blob/main/Pytorch_Quickstart.ipynb\" target=\"_parent\"><img src=\"https://colab.research.google.com/assets/colab-badge.svg\" alt=\"Open In Colab\"/></a>"
      ]
    },
    {
      "cell_type": "code",
      "execution_count": 9,
      "metadata": {
        "id": "YVRVXHYssZ09"
      },
      "outputs": [],
      "source": [
        "import torch\n",
        "from torch import nn\n",
        "from torch.utils.data import DataLoader\n",
        "from torchvision import datasets\n",
        "from torchvision.transforms import ToTensor"
      ]
    },
    {
      "cell_type": "code",
      "source": [
        "# Download training data\n",
        "training_data = datasets.FashionMNIST(\n",
        "    root=\"data\",\n",
        "    train=True,\n",
        "    download=True,\n",
        "    transform=ToTensor(),\n",
        ")\n",
        "\n",
        "test_data = datasets.FashionMNIST(\n",
        "    root=\"data\",\n",
        "    train=False,\n",
        "    download=True,\n",
        "    transform=ToTensor()\n",
        ")"
      ],
      "metadata": {
        "id": "myx01RgPtBOZ"
      },
      "execution_count": 10,
      "outputs": []
    },
    {
      "cell_type": "code",
      "source": [
        "batch_size = 64\n",
        "\n",
        "train_dataloader = DataLoader(training_data, batch_size=batch_size)\n",
        "test_dataloader = DataLoader(test_data, batch_size=batch_size)\n",
        "\n",
        "for X, y in test_dataloader:\n",
        "  print(f\"Shape of X [N, C, H, W]: {X.shape}\")\n",
        "  print(f\"Shape of y: {y.shape} {y.dtype}\")\n",
        "  break"
      ],
      "metadata": {
        "colab": {
          "base_uri": "https://localhost:8080/"
        },
        "id": "01zwhjrgt16Q",
        "outputId": "1958b712-bd7c-45bf-a34a-ac29bba757b0"
      },
      "execution_count": 11,
      "outputs": [
        {
          "output_type": "stream",
          "name": "stdout",
          "text": [
            "Shape of X [N, C, H, W]: torch.Size([64, 1, 28, 28])\n",
            "Shape of y: torch.Size([64]) torch.int64\n"
          ]
        }
      ]
    },
    {
      "cell_type": "code",
      "source": [
        "device = \"cuda\" if torch.cuda.is_available() else \"cpu\"\n",
        "print(f\"Using {device} device\")"
      ],
      "metadata": {
        "colab": {
          "base_uri": "https://localhost:8080/"
        },
        "id": "j_EpQ5DVumW2",
        "outputId": "ffdabaa2-d9bb-487e-8350-ad61c762e0ab"
      },
      "execution_count": 12,
      "outputs": [
        {
          "output_type": "stream",
          "name": "stdout",
          "text": [
            "Using cuda device\n"
          ]
        }
      ]
    },
    {
      "cell_type": "code",
      "source": [
        "# Define model\n",
        "class NeuralNetwork(nn.Module):\n",
        "  def __init__(self):\n",
        "    super().__init__()\n",
        "    self.flatten = nn.Flatten()\n",
        "    self.linear_relu_stack = nn.Sequential(\n",
        "        nn.Linear(28*28, 512),\n",
        "        nn.ReLU(),\n",
        "        nn.Linear(512, 512),\n",
        "        nn.ReLU(),\n",
        "        nn.Linear(512, 10)\n",
        "    )\n",
        "\n",
        "  def forward(self, x):\n",
        "    x = self.flatten(x)\n",
        "    logits = self.linear_relu_stack(x)\n",
        "    return logits\n",
        "\n",
        "model = NeuralNetwork().to(device)\n",
        "print(model)"
      ],
      "metadata": {
        "colab": {
          "base_uri": "https://localhost:8080/"
        },
        "id": "1Ki4qC-4vNoO",
        "outputId": "f2b0bc9b-cecd-4e07-d68e-c0a467af2400"
      },
      "execution_count": 13,
      "outputs": [
        {
          "output_type": "stream",
          "name": "stdout",
          "text": [
            "NeuralNetwork(\n",
            "  (flatten): Flatten(start_dim=1, end_dim=-1)\n",
            "  (linear_relu_stack): Sequential(\n",
            "    (0): Linear(in_features=784, out_features=512, bias=True)\n",
            "    (1): ReLU()\n",
            "    (2): Linear(in_features=512, out_features=512, bias=True)\n",
            "    (3): ReLU()\n",
            "    (4): Linear(in_features=512, out_features=10, bias=True)\n",
            "  )\n",
            ")\n"
          ]
        }
      ]
    },
    {
      "cell_type": "code",
      "source": [
        "loss_fn = nn.CrossEntropyLoss()\n",
        "optimizer = torch.optim.SGD(model.parameters(), lr=1e-3)"
      ],
      "metadata": {
        "id": "HQXkJ_WmZjyY"
      },
      "execution_count": 14,
      "outputs": []
    },
    {
      "cell_type": "code",
      "source": [
        "def train(dataloader, model, loss_fn, optimizer):\n",
        "  size = len(dataloader.dataset)\n",
        "  model.train()\n",
        "  for batch, (X, y) in enumerate(dataloader):\n",
        "    X, y = X.to(device), y.to(device)\n",
        "\n",
        "    # Compute prediction error\n",
        "    pred = model(X)\n",
        "    loss = loss_fn(pred, y)\n",
        "\n",
        "    # Backpropagation\n",
        "    optimizer.zero_grad()\n",
        "    loss.backward()\n",
        "    optimizer.step()\n",
        "\n",
        "    if batch % 100 == 0:\n",
        "      loss, current = loss.item(), batch * len(X)\n",
        "      print(f\"loss: {loss:>7f}  [{current:>5d}/{size:>5d}]\")"
      ],
      "metadata": {
        "id": "ks_qcNvNZkGB"
      },
      "execution_count": 15,
      "outputs": []
    },
    {
      "cell_type": "code",
      "source": [
        "def test(dataloader, model, loss_fn):\n",
        "    size = len(dataloader.dataset)\n",
        "    num_batches = len(dataloader)\n",
        "    model.eval()\n",
        "    test_loss, correct = 0, 0\n",
        "    with torch.no_grad():\n",
        "        for X, y in dataloader:\n",
        "            X, y = X.to(device), y.to(device)\n",
        "            pred = model(X)\n",
        "            test_loss += loss_fn(pred, y).item()\n",
        "            correct += (pred.argmax(1) == y).type(torch.float).sum().item()\n",
        "    test_loss /= num_batches\n",
        "    correct /= size\n",
        "    print(f\"Test Error: \\n Accuracy: {(100*correct):>0.1f}%, Avg loss: {test_loss:>8f} \\n\")\n"
      ],
      "metadata": {
        "id": "LD7ClroQZkJj"
      },
      "execution_count": 16,
      "outputs": []
    },
    {
      "cell_type": "code",
      "source": [
        "epochs = 5\n",
        "for t in range(epochs):\n",
        "    print(f\"Epoch {t+1}\\n-------------------------------\")\n",
        "    train(train_dataloader, model, loss_fn, optimizer)\n",
        "    test(test_dataloader, model, loss_fn)\n",
        "print(\"Done!\")"
      ],
      "metadata": {
        "colab": {
          "base_uri": "https://localhost:8080/"
        },
        "id": "UtqTnnwXZkMV",
        "outputId": "d78dd230-b2f3-49a4-d938-3a5461f22f28"
      },
      "execution_count": 17,
      "outputs": [
        {
          "output_type": "stream",
          "name": "stdout",
          "text": [
            "Epoch 1\n",
            "-------------------------------\n",
            "loss: 2.295564  [    0/60000]\n",
            "loss: 2.277817  [ 6400/60000]\n",
            "loss: 2.258457  [12800/60000]\n",
            "loss: 2.251800  [19200/60000]\n",
            "loss: 2.227045  [25600/60000]\n",
            "loss: 2.208276  [32000/60000]\n",
            "loss: 2.212369  [38400/60000]\n",
            "loss: 2.174694  [44800/60000]\n",
            "loss: 2.166336  [51200/60000]\n",
            "loss: 2.137482  [57600/60000]\n",
            "Test Error: \n",
            " Accuracy: 49.7%, Avg loss: 2.127431 \n",
            "\n",
            "Epoch 2\n",
            "-------------------------------\n",
            "loss: 2.136539  [    0/60000]\n",
            "loss: 2.118640  [ 6400/60000]\n",
            "loss: 2.056381  [12800/60000]\n",
            "loss: 2.076163  [19200/60000]\n",
            "loss: 2.013683  [25600/60000]\n",
            "loss: 1.954080  [32000/60000]\n",
            "loss: 1.979949  [38400/60000]\n",
            "loss: 1.886623  [44800/60000]\n",
            "loss: 1.891416  [51200/60000]\n",
            "loss: 1.821502  [57600/60000]\n",
            "Test Error: \n",
            " Accuracy: 56.3%, Avg loss: 1.818020 \n",
            "\n",
            "Epoch 3\n",
            "-------------------------------\n",
            "loss: 1.853063  [    0/60000]\n",
            "loss: 1.816133  [ 6400/60000]\n",
            "loss: 1.694937  [12800/60000]\n",
            "loss: 1.743615  [19200/60000]\n",
            "loss: 1.625461  [25600/60000]\n",
            "loss: 1.583596  [32000/60000]\n",
            "loss: 1.605679  [38400/60000]\n",
            "loss: 1.501089  [44800/60000]\n",
            "loss: 1.534151  [51200/60000]\n",
            "loss: 1.430944  [57600/60000]\n",
            "Test Error: \n",
            " Accuracy: 61.8%, Avg loss: 1.452105 \n",
            "\n",
            "Epoch 4\n",
            "-------------------------------\n",
            "loss: 1.523435  [    0/60000]\n",
            "loss: 1.488620  [ 6400/60000]\n",
            "loss: 1.338496  [12800/60000]\n",
            "loss: 1.415601  [19200/60000]\n",
            "loss: 1.301309  [25600/60000]\n",
            "loss: 1.300303  [32000/60000]\n",
            "loss: 1.316883  [38400/60000]\n",
            "loss: 1.234555  [44800/60000]\n",
            "loss: 1.277252  [51200/60000]\n",
            "loss: 1.181896  [57600/60000]\n",
            "Test Error: \n",
            " Accuracy: 63.8%, Avg loss: 1.207586 \n",
            "\n",
            "Epoch 5\n",
            "-------------------------------\n",
            "loss: 1.287764  [    0/60000]\n",
            "loss: 1.270301  [ 6400/60000]\n",
            "loss: 1.101026  [12800/60000]\n",
            "loss: 1.210282  [19200/60000]\n",
            "loss: 1.097310  [25600/60000]\n",
            "loss: 1.116968  [32000/60000]\n",
            "loss: 1.143797  [38400/60000]\n",
            "loss: 1.069575  [44800/60000]\n",
            "loss: 1.116916  [51200/60000]\n",
            "loss: 1.035445  [57600/60000]\n",
            "Test Error: \n",
            " Accuracy: 65.1%, Avg loss: 1.055732 \n",
            "\n",
            "Done!\n"
          ]
        }
      ]
    },
    {
      "cell_type": "code",
      "source": [],
      "metadata": {
        "id": "TQ6KL7iBZkPn"
      },
      "execution_count": 17,
      "outputs": []
    }
  ]
}
{
  "nbformat": 4,
  "nbformat_minor": 0,
  "metadata": {
    "colab": {
      "provenance": [],
      "authorship_tag": "ABX9TyMiopV98hEH4UOIv3R5WmKC",
      "include_colab_link": true
    },
    "kernelspec": {
      "name": "python3",
      "display_name": "Python 3"
    },
    "language_info": {
      "name": "python"
    }
  },
  "cells": [
    {
      "cell_type": "markdown",
      "metadata": {
        "id": "view-in-github",
        "colab_type": "text"
      },
      "source": [
        "<a href=\"https://colab.research.google.com/github/lilianabs/learning-pytorch/blob/main/Linear_reg_concrete.ipynb\" target=\"_parent\"><img src=\"https://colab.research.google.com/assets/colab-badge.svg\" alt=\"Open In Colab\"/></a>"
      ]
    },
    {
      "cell_type": "code",
      "execution_count": 14,
      "metadata": {
        "id": "8Ne9RqGfEm20"
      },
      "outputs": [],
      "source": [
        "import torch\n",
        "import torch.nn as nn\n",
        "from torch.utils.data import Dataset, DataLoader, random_split\n",
        "import numpy as np\n",
        "import math\n",
        "\n",
        "import pandas as pd\n",
        "import matplotlib.pyplot as plt"
      ]
    },
    {
      "cell_type": "code",
      "source": [
        "class ConcreteDataset(Dataset):\n",
        "\n",
        "  def __init__(self):\n",
        "    \n",
        "    concrete_df = pd.read_csv(\"concrete.csv\")\n",
        "    x = concrete_df.iloc[:, 0:8].values\n",
        "    y = concrete_df.iloc[:, 8].values\n",
        "\n",
        "    self.x = torch.tensor(x, dtype=torch.float32)\n",
        "    self.y = torch.tensor(y, dtype=torch.float32)\n",
        "\n",
        "  def __len__(self):\n",
        "    return len(self.y)\n",
        "\n",
        "  def __getitem__(self, idx):\n",
        "    return self.x[idx], self.y[idx]"
      ],
      "metadata": {
        "id": "Yt7ZKfbmF8ez"
      },
      "execution_count": 15,
      "outputs": []
    },
    {
      "cell_type": "code",
      "source": [
        "dataset = ConcreteDataset()"
      ],
      "metadata": {
        "id": "6SuaJajIHg-P"
      },
      "execution_count": 16,
      "outputs": []
    },
    {
      "cell_type": "code",
      "source": [
        "first_element = dataset[0]\n",
        "features, label = first_element\n",
        "print(features, label)"
      ],
      "metadata": {
        "colab": {
          "base_uri": "https://localhost:8080/"
        },
        "id": "VEvV2umdIo94",
        "outputId": "4a5e40dc-3311-4e12-e9b3-80a72f9e070f"
      },
      "execution_count": 17,
      "outputs": [
        {
          "output_type": "stream",
          "name": "stdout",
          "text": [
            "tensor([ 540.0000,    0.0000,    0.0000,  162.0000,    2.5000, 1040.0000,\n",
            "         676.0000,   28.0000]) tensor(79.9900)\n"
          ]
        }
      ]
    },
    {
      "cell_type": "code",
      "source": [
        "train_dataset, test_dataset = random_split(dataset, [0.8, 0.2], generator=torch.Generator().manual_seed(42))"
      ],
      "metadata": {
        "id": "-HHEvy-xHkiw"
      },
      "execution_count": 18,
      "outputs": []
    },
    {
      "cell_type": "code",
      "source": [
        "train_dataloader = DataLoader(train_dataset, batch_size=4, shuffle=True)\n",
        "test_dataloader = DataLoader(test_dataset, batch_size=4, shuffle=True)"
      ],
      "metadata": {
        "id": "YpfYiYrqHxT7"
      },
      "execution_count": 19,
      "outputs": []
    },
    {
      "cell_type": "code",
      "source": [
        "n_features = 8\n",
        "input_size = n_features\n",
        "output_size = 1"
      ],
      "metadata": {
        "id": "wZ-CL3k6OWww"
      },
      "execution_count": 20,
      "outputs": []
    },
    {
      "cell_type": "code",
      "source": [
        "model = nn.Linear(input_size, output_size)"
      ],
      "metadata": {
        "id": "8q5UNvNCMVHf"
      },
      "execution_count": 21,
      "outputs": []
    },
    {
      "cell_type": "code",
      "source": [
        "learning_rate = 0.01\n",
        "criterion = nn.MSELoss()\n",
        "optimizer = torch.optim.SGD(model.parameters(), lr=learning_rate)"
      ],
      "metadata": {
        "id": "t_Yi9UEjPizs"
      },
      "execution_count": 22,
      "outputs": []
    },
    {
      "cell_type": "code",
      "source": [
        "num_epochs = 100\n",
        "\n",
        "for epoch in range(num_epochs):\n",
        "  for i, (x, y) in enumerate(train_dataloader):\n",
        "    y_pred = model(x)\n",
        "    loss = criterion(y_pred, y)\n",
        "    optimizer.zero_grad()\n",
        "    loss.backward()\n",
        "    optimizer.step()\n",
        "\n",
        "  if (epoch + 1) % 10 == 0:\n",
        "    print(f\"epoch: {epoch+1}, loss = {loss:.4f}\")"
      ],
      "metadata": {
        "colab": {
          "base_uri": "https://localhost:8080/"
        },
        "id": "52k3uusZPwca",
        "outputId": "4ca21cf6-3970-4c9e-e2c6-17ea1db3ab54"
      },
      "execution_count": 23,
      "outputs": [
        {
          "output_type": "stream",
          "name": "stdout",
          "text": [
            "epoch: 10, loss = nan\n",
            "epoch: 20, loss = nan\n",
            "epoch: 30, loss = nan\n",
            "epoch: 40, loss = nan\n",
            "epoch: 50, loss = nan\n",
            "epoch: 60, loss = nan\n",
            "epoch: 70, loss = nan\n",
            "epoch: 80, loss = nan\n",
            "epoch: 90, loss = nan\n",
            "epoch: 100, loss = nan\n"
          ]
        }
      ]
    },
    {
      "cell_type": "code",
      "source": [],
      "metadata": {
        "id": "1mAEMvFvQ6z2"
      },
      "execution_count": 23,
      "outputs": []
    }
  ]
}